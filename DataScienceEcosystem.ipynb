{
 "cells": [
  {
   "cell_type": "markdown",
   "id": "3dcc0b00-4ab0-4773-b1f3-f4a4d85d4bde",
   "metadata": {},
   "source": [
    "# Data Science Tools and Ecosystem"
   ]
  },
  {
   "cell_type": "markdown",
   "id": "e055cd87-7c7b-4f24-9e9b-88c75de5338d",
   "metadata": {},
   "source": [
    "In this notebook, Data Science Tools and Ecosystem are summarized."
   ]
  },
  {
   "cell_type": "markdown",
   "id": "39b516a6-2d51-40d1-b9a9-2409ee6b9708",
   "metadata": {},
   "source": [
    "Some of the popular languages that Data Scientists use are:\n",
    "1. Python\n",
    "2. R\n",
    "3. SQL"
   ]
  },
  {
   "cell_type": "markdown",
   "id": "30fda450-4079-4b06-b3bc-4b15548a42cb",
   "metadata": {},
   "source": [
    "Some of the commonly used libraries used by Data Scientists include:\n",
    "1. NumPy\n",
    "2. Matplotlib\n",
    "3. Pandas"
   ]
  },
  {
   "cell_type": "markdown",
   "id": "0f6cf659-4438-4c19-8c96-b55520a6178c",
   "metadata": {},
   "source": [
    "| Data Science Tools |\n",
    "| -------------|\n",
    "| Jupyter Notebooks |\n",
    "| RStudio |\n",
    "| Google Colab |\n"
   ]
  },
  {
   "cell_type": "markdown",
   "id": "a83e2d22-92a8-4fb5-b9b6-7fce3bd9626c",
   "metadata": {},
   "source": [
    "### Below are a few examples of evaluating arithmetic expressions in Python"
   ]
  },
  {
   "cell_type": "code",
   "execution_count": 1,
   "id": "efe41137-cd08-459b-b0f2-7074a0b47c28",
   "metadata": {},
   "outputs": [
    {
     "data": {
      "text/plain": [
       "17"
      ]
     },
     "execution_count": 1,
     "metadata": {},
     "output_type": "execute_result"
    }
   ],
   "source": [
    "# This a simple arithmetic expression to mutiply then add integers\n",
    "(3*4)+5"
   ]
  },
  {
   "cell_type": "code",
   "execution_count": 2,
   "id": "6222fa36-4173-41ef-a2b3-c374baef007b",
   "metadata": {},
   "outputs": [
    {
     "data": {
      "text/plain": [
       "3.3333333333333335"
      ]
     },
     "execution_count": 2,
     "metadata": {},
     "output_type": "execute_result"
    }
   ],
   "source": [
    "# This will convert 200 minutes to hours by diving by 60\n",
    "200/60"
   ]
  },
  {
   "cell_type": "markdown",
   "id": "2a2eba03-838e-488c-920b-7786bfd19776",
   "metadata": {},
   "source": [
    "**Objectives:**\n",
    "- Learn the benefits of Python, R, SQL, and other common languages such as Java, Scala, C++, JavaScript, and Julia.\n",
    "- List examples of the various data science libraries: scientific, visualization, machine learning, and deep learning.\n",
    "- List the tasks that a data scientist needs to perform to build a model.\n",
    "- Describe R capabilities and RStudio environment.\n",
    "- Explain version control and describe the Git and GitHub environment.\n"
   ]
  },
  {
   "cell_type": "markdown",
   "id": "afff56a8-4cf3-4637-b397-5eb50bc6a064",
   "metadata": {},
   "source": [
    "## Author\n",
    "Lucy Stevenson"
   ]
  },
  {
   "cell_type": "code",
   "execution_count": null,
   "id": "cfaf6b4e-bbf4-4c2c-98bc-57c68c4d9c56",
   "metadata": {},
   "outputs": [],
   "source": []
  }
 ],
 "metadata": {
  "kernelspec": {
   "display_name": "Python [conda env:base] *",
   "language": "python",
   "name": "conda-base-py"
  },
  "language_info": {
   "codemirror_mode": {
    "name": "ipython",
    "version": 3
   },
   "file_extension": ".py",
   "mimetype": "text/x-python",
   "name": "python",
   "nbconvert_exporter": "python",
   "pygments_lexer": "ipython3",
   "version": "3.12.7"
  }
 },
 "nbformat": 4,
 "nbformat_minor": 5
}
